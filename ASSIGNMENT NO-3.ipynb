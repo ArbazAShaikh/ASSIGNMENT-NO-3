{
 "cells": [
  {
   "cell_type": "markdown",
   "id": "14af40ed",
   "metadata": {},
   "source": [
    "# ASSIGNMENT NO-3[2 FEB]"
   ]
  },
  {
   "cell_type": "markdown",
   "id": "e57990c9",
   "metadata": {},
   "source": [
    "# 1.What are the characteristics of the tuples? Is tuple immutable?\n",
    "### Ans.\n",
    "### Tuples are ordered collections of elements that are typically used to group related data. The main characteristics of tuples are:\n",
    "\n",
    "### Immutable: Tuples are immutable, meaning that once they are created, their contents cannot be modified. This means that you cannot add, remove, or replace elements in a tuple.\n",
    "\n",
    "### Ordered: Tuples are ordered, meaning that the order in which the elements appear in the tuple is preserved.\n",
    "\n",
    "### Heterogeneous: Tuples can contain elements of different data types, including integers, floats, strings, and other tuples.\n",
    "\n",
    "### Indexable: Tuples are indexable, meaning that you can access the elements in a tuple using their position in the tuple. The index of the first element is 0.\n",
    "\n",
    "### Iterable: Tuples are iterable, meaning that you can use a for loop to iterate over the elements in a tuple.\n",
    "\n",
    "### Because tuples are immutable, they are often used to represent fixed data structures that should not be changed during the course of a program. Additionally, tuples are sometimes used to return multiple values from a function.\n",
    "\n",
    "\n",
    "\n"
   ]
  },
  {
   "cell_type": "markdown",
   "id": "232d2cee",
   "metadata": {},
   "source": [
    "# 2.What are the two tuple methods in python? Give an example of each method. Give a reason why tuples have only two in-built methods as compared to list.\n",
    "\n",
    "### Ans.\n",
    "### In Python, there are two built-in methods that can be used with tuples:\n",
    "\n",
    "### count: This method returns the number of times a specified value appears in a tuple\n",
    "### index: This method returns the index of the first occurrence of a specified value in a tuple. \n",
    "\n",
    "### The reason why tuples have only two built-in methods compared to lists is that tuples are designed to be immutable, meaning that their contents cannot be changed. As a result, there is no need for methods like append, insert, or remove, which modify the contents of a list. The two methods provided for tuples allow users to query the contents of a tuple without modifying it. Additionally, because tuples are simpler than lists, they can be more efficient in terms of memory usage and performance."
   ]
  },
  {
   "cell_type": "code",
   "execution_count": 1,
   "id": "13ed38ff",
   "metadata": {},
   "outputs": [
    {
     "name": "stdout",
     "output_type": "stream",
     "text": [
      "3\n"
     ]
    }
   ],
   "source": [
    "tuple1 = (1, 2, 3, 3,3, 4, 5)\n",
    "count_of_3 = tuple1.count(3)\n",
    "print(count_of_3) \n"
   ]
  },
  {
   "cell_type": "code",
   "execution_count": 2,
   "id": "789c2de9",
   "metadata": {},
   "outputs": [
    {
     "name": "stdout",
     "output_type": "stream",
     "text": [
      "5\n"
     ]
    }
   ],
   "source": [
    "tuple2 = (1, 2, 3, 3, 4, 5)\n",
    "index5 = tuple2.index(5)\n",
    "print(index5)\n"
   ]
  },
  {
   "cell_type": "markdown",
   "id": "942008d5",
   "metadata": {},
   "source": [
    "# 3.Which collection datatypes in python do not allow duplicate items? Write a code using a set to remove duplicates from the given list.\n",
    "## List=[1,1,1,2,1,3,1,4,2,1,2,2,2,3,2,4,3,1,3,2,3,3,3,4,4,1,4,2,4,3,4,4]"
   ]
  },
  {
   "cell_type": "markdown",
   "id": "4a274e3e",
   "metadata": {},
   "source": [
    "### Ans.The collection datatype in Python that does not allow duplicate items is the set."
   ]
  },
  {
   "cell_type": "code",
   "execution_count": 3,
   "id": "a5bae129",
   "metadata": {},
   "outputs": [
    {
     "name": "stdout",
     "output_type": "stream",
     "text": [
      "[1, 2, 3, 4]\n"
     ]
    }
   ],
   "source": [
    "lst = [1,1,1,2,1,3,1,4,2,1,2,2,2,3,2,4,3,1,3,2,3,3,3,4,4,1,4,2,4,3,4,4]\n",
    "unique_items = set(lst)\n",
    "lst = list(unique_items)\n",
    "print(lst)\n"
   ]
  },
  {
   "cell_type": "markdown",
   "id": "4054a7ab",
   "metadata": {},
   "source": [
    "# 4.Explain the difference between the union() and update() methods for a set. Give an example of each method."
   ]
  },
  {
   "cell_type": "markdown",
   "id": "e6f2d416",
   "metadata": {},
   "source": [
    "### Both union() and update() are methods of the Python set class that allow you to combine two or more sets into a single set. However, they differ in how they handle the original sets.\n",
    "\n",
    "### The union() method creates a new set that contains all the unique elements from both sets. It returns a new set without modifying either of the original sets. The union() method can take one or more arguments and can also use the | operator to combine sets.\n",
    "\n",
    "### The update() method, on the other hand, modifies the original set by adding all the elements from another set to it. The update() method can take one or more arguments and can also use the |= operator to combine sets."
   ]
  },
  {
   "cell_type": "code",
   "execution_count": 4,
   "id": "d91315bd",
   "metadata": {},
   "outputs": [
    {
     "name": "stdout",
     "output_type": "stream",
     "text": [
      "{1, 2, 3, 4, 5}\n"
     ]
    }
   ],
   "source": [
    "set1 = {1, 2, 3}\n",
    "set2 = {3, 4, 5}\n",
    "set3 = set1.union(set2)\n",
    "print(set3) \n"
   ]
  },
  {
   "cell_type": "code",
   "execution_count": 6,
   "id": "2b225469",
   "metadata": {},
   "outputs": [
    {
     "name": "stdout",
     "output_type": "stream",
     "text": [
      "{1, 2, 3, 4, 5}\n"
     ]
    }
   ],
   "source": [
    "set1 = {1, 2, 3}\n",
    "set2 = {3, 4, 5}\n",
    "set1.update(set2)\n",
    "print(set1) \n"
   ]
  },
  {
   "cell_type": "markdown",
   "id": "6f2e7c28",
   "metadata": {},
   "source": [
    "# 5.What is a dictionary? Give an example. Also,State whether a dictionary is ordered or unordered."
   ]
  },
  {
   "cell_type": "markdown",
   "id": "4271f564",
   "metadata": {},
   "source": [
    "### Ans.\n",
    "### A dictionary in Python is a collection of key-value pairs. Each key in a dictionary is unique and is used to access its corresponding value. Dictionaries are created using curly braces {} and each key-value pair is separated by a colon ':'.\n",
    "\n",
    "### Dictionaries are unordered, meaning that the order of the key-value pairs in a dictionary is not fixed or guaranteed. When you iterate over a dictionary, the order in which the key-value pairs are returned is not guaranteed to be the same every time. However, starting from Python 3.7, the insertion order of key-value pairs is preserved in dictionaries. So, while dictionaries are not strictly ordered, they do maintain the order in which elements were added."
   ]
  },
  {
   "cell_type": "code",
   "execution_count": 8,
   "id": "bc2f38a0",
   "metadata": {},
   "outputs": [
    {
     "data": {
      "text/plain": [
       "{'a': 'apple', 'b': 'orange', 'c': 'banana'}"
      ]
     },
     "execution_count": 8,
     "metadata": {},
     "output_type": "execute_result"
    }
   ],
   "source": [
    "# example\n",
    "\n",
    "dictionary={'a':'apple','b':'orange','c':'banana'}\n",
    "dictionary "
   ]
  },
  {
   "cell_type": "markdown",
   "id": "0032acb0",
   "metadata": {},
   "source": [
    "# 6.Can we create a nested dictionary? If so,please give an example by creating a simple one-level nested dictionary \n",
    "\n",
    "### Yes, we can create a nested dictionary in Python. Here's an example of a simple one-level nested dictionary:"
   ]
  },
  {
   "cell_type": "code",
   "execution_count": 3,
   "id": "1b4e1297",
   "metadata": {},
   "outputs": [
    {
     "data": {
      "text/plain": [
       "20"
      ]
     },
     "execution_count": 3,
     "metadata": {},
     "output_type": "execute_result"
    }
   ],
   "source": [
    "dictionary={'a':{'name':'arbaz','age':20},'b':{'name':'ram','age':30}}\n",
    "dictionary['a']['age']"
   ]
  },
  {
   "cell_type": "markdown",
   "id": "789bf090",
   "metadata": {},
   "source": [
    "# 7.Using setdefault() method,creat key named topics in the given dictionary and also add the value of the key as this list ['Python','Machine Learning','Deep Learning']\n",
    "\n",
    "## dict1={'language':'Python','course':'Data Science Masters'}"
   ]
  },
  {
   "cell_type": "code",
   "execution_count": 5,
   "id": "4d6f0380",
   "metadata": {},
   "outputs": [
    {
     "data": {
      "text/plain": [
       "{'language': 'Python',\n",
       " 'course': 'Data Science Masters',\n",
       " 'topics': ['Python', 'Machine Learning', 'Deep Learning']}"
      ]
     },
     "execution_count": 5,
     "metadata": {},
     "output_type": "execute_result"
    }
   ],
   "source": [
    "dict1 = {'language': 'Python', 'course': 'Data Science Masters'}\n",
    "dict1.setdefault('topics', ['Python', 'Machine Learning', 'Deep Learning'])\n",
    "dict1"
   ]
  },
  {
   "cell_type": "markdown",
   "id": "d7f3992c",
   "metadata": {},
   "source": [
    "# 8.What are the three view object in dictionaries? Use the three in-built methods in python to display these three view object for the given dictionary.\n",
    "\n",
    "## dict1={'Sport':'Cricket','Team':['India','Australia','England','South Africa','Sri Lanka','New Zealand']}\n",
    "\n",
    "## Ans.\n",
    "### The three view objects in Python dictionaries are:\n",
    "\n",
    "### dict_keys: This view object contains the keys of the dictionary.\n",
    "### dict_values: This view object contains the values of the dictionary.\n",
    "### dict_items: This view object contains the key-value pairs of the dictionary."
   ]
  },
  {
   "cell_type": "code",
   "execution_count": 10,
   "id": "74aec420",
   "metadata": {},
   "outputs": [
    {
     "name": "stdout",
     "output_type": "stream",
     "text": [
      "dict_keys(['Sport', 'Team'])\n",
      "dict_values(['Cricket', ['India', 'Australia', 'England', 'South Africa', 'Sri Lanka', 'New Zealand']])\n",
      "dict_items([('Sport', 'Cricket'), ('Team', ['India', 'Australia', 'England', 'South Africa', 'Sri Lanka', 'New Zealand'])])\n"
     ]
    }
   ],
   "source": [
    "\n",
    "dict1 = {'Sport': 'Cricket', 'Team': ['India', 'Australia', 'England', 'South Africa', 'Sri Lanka', 'New Zealand']}\n",
    "\n",
    "print(dict1.keys())\n",
    "print(dict1.values())\n",
    "print(dict1.items())\n"
   ]
  },
  {
   "cell_type": "code",
   "execution_count": null,
   "id": "eb80fbdd",
   "metadata": {},
   "outputs": [],
   "source": []
  }
 ],
 "metadata": {
  "kernelspec": {
   "display_name": "Python 3 (ipykernel)",
   "language": "python",
   "name": "python3"
  },
  "language_info": {
   "codemirror_mode": {
    "name": "ipython",
    "version": 3
   },
   "file_extension": ".py",
   "mimetype": "text/x-python",
   "name": "python",
   "nbconvert_exporter": "python",
   "pygments_lexer": "ipython3",
   "version": "3.9.13"
  }
 },
 "nbformat": 4,
 "nbformat_minor": 5
}
